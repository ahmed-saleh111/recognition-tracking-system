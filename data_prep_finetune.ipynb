{
 "cells": [
  {
   "cell_type": "code",
   "execution_count": null,
   "metadata": {},
   "outputs": [
    {
     "name": "stdout",
     "output_type": "stream",
     "text": [
      "Feature dimension: 49152\n",
      "Loaded pre-trained weights from best_faces.pt\n",
      "Number of images in data: 996\n",
      "Created 100000 triplets (skipped 0 subfolders with < 2 images)\n",
      "Train size: 70000, Val size: 15000, Test size: 15000\n"
     ]
    },
    {
     "name": "stderr",
     "output_type": "stream",
     "text": [
      "                                                                                             \r"
     ]
    },
    {
     "name": "stdout",
     "output_type": "stream",
     "text": [
      "Initial Validation Loss: 0.4040, Accuracy: 0.7371\n"
     ]
    },
    {
     "name": "stderr",
     "output_type": "stream",
     "text": [
      "Epoch 1/50 [Train]: 100%|██████████| 137/137 [02:50<00:00,  1.24s/batch, train_loss=0.0225, d_ap=0.514]\n",
      "                                                                                       \r"
     ]
    },
    {
     "name": "stdout",
     "output_type": "stream",
     "text": [
      "Epoch 1/50:\n",
      "  Train Loss: 0.0755, Train Accuracy: 0.9674\n",
      "  Val Loss: 0.0267, Val Accuracy: 0.9957\n",
      "  Model saved to best_face_finetune2.pt (Best Val Loss: 0.0267)\n"
     ]
    },
    {
     "name": "stderr",
     "output_type": "stream",
     "text": [
      "Epoch 2/50 [Train]: 100%|██████████| 137/137 [02:50<00:00,  1.25s/batch, train_loss=0.0107, d_ap=0.487] \n",
      "                                                                                        \r"
     ]
    },
    {
     "name": "stdout",
     "output_type": "stream",
     "text": [
      "Epoch 2/50:\n",
      "  Train Loss: 0.0167, Train Accuracy: 0.9985\n",
      "  Val Loss: 0.0097, Val Accuracy: 0.9995\n",
      "  Model saved to best_face_finetune2.pt (Best Val Loss: 0.0097)\n"
     ]
    },
    {
     "name": "stderr",
     "output_type": "stream",
     "text": [
      "Epoch 3/50 [Train]: 100%|██████████| 137/137 [02:51<00:00,  1.25s/batch, train_loss=0.00535, d_ap=0.471]\n",
      "                                                                                        \r"
     ]
    },
    {
     "name": "stdout",
     "output_type": "stream",
     "text": [
      "Epoch 3/50:\n",
      "  Train Loss: 0.0069, Train Accuracy: 0.9998\n",
      "  Val Loss: 0.0057, Val Accuracy: 0.9999\n",
      "  Model saved to best_face_finetune2.pt (Best Val Loss: 0.0057)\n"
     ]
    },
    {
     "name": "stderr",
     "output_type": "stream",
     "text": [
      "Epoch 4/50 [Train]: 100%|██████████| 137/137 [02:46<00:00,  1.21s/batch, train_loss=0.00342, d_ap=0.459]\n",
      "                                                                                         \r"
     ]
    },
    {
     "name": "stdout",
     "output_type": "stream",
     "text": [
      "Epoch 4/50:\n",
      "  Train Loss: 0.0039, Train Accuracy: 0.9999\n",
      "  Val Loss: 0.0043, Val Accuracy: 1.0000\n",
      "  Model saved to best_face_finetune2.pt (Best Val Loss: 0.0043)\n"
     ]
    },
    {
     "name": "stderr",
     "output_type": "stream",
     "text": [
      "Epoch 5/50 [Train]: 100%|██████████| 137/137 [02:44<00:00,  1.20s/batch, train_loss=0.00111, d_ap=0.447] \n",
      "                                                                                         \r"
     ]
    },
    {
     "name": "stdout",
     "output_type": "stream",
     "text": [
      "Epoch 5/50:\n",
      "  Train Loss: 0.0023, Train Accuracy: 1.0000\n",
      "  Val Loss: 0.0014, Val Accuracy: 1.0000\n",
      "  Model saved to best_face_finetune2.pt (Best Val Loss: 0.0014)\n"
     ]
    },
    {
     "name": "stderr",
     "output_type": "stream",
     "text": [
      "Epoch 6/50 [Train]: 100%|██████████| 137/137 [02:45<00:00,  1.21s/batch, train_loss=0.00233, d_ap=0.455] \n",
      "                                                                                         \r"
     ]
    },
    {
     "name": "stdout",
     "output_type": "stream",
     "text": [
      "Epoch 6/50:\n",
      "  Train Loss: 0.0019, Train Accuracy: 1.0000\n",
      "  Val Loss: 0.0022, Val Accuracy: 1.0000\n",
      "  No improvement in validation loss for 1 epoochs\n"
     ]
    },
    {
     "name": "stderr",
     "output_type": "stream",
     "text": [
      "Epoch 7/50 [Train]: 100%|██████████| 137/137 [02:47<00:00,  1.22s/batch, train_loss=0.00213, d_ap=0.448] \n",
      "                                                                                         \r"
     ]
    },
    {
     "name": "stdout",
     "output_type": "stream",
     "text": [
      "Epoch 7/50:\n",
      "  Train Loss: 0.0018, Train Accuracy: 1.0000\n",
      "  Val Loss: 0.0017, Val Accuracy: 1.0000\n",
      "  No improvement in validation loss for 2 epoochs\n"
     ]
    },
    {
     "name": "stderr",
     "output_type": "stream",
     "text": [
      "Epoch 8/50 [Train]: 100%|██████████| 137/137 [02:45<00:00,  1.21s/batch, train_loss=0.000562, d_ap=0.442]\n",
      "                                                                                         \r"
     ]
    },
    {
     "name": "stdout",
     "output_type": "stream",
     "text": [
      "Epoch 8/50:\n",
      "  Train Loss: 0.0014, Train Accuracy: 1.0000\n",
      "  Val Loss: 0.0013, Val Accuracy: 1.0000\n",
      "  Model saved to best_face_finetune2.pt (Best Val Loss: 0.0013)\n"
     ]
    },
    {
     "name": "stderr",
     "output_type": "stream",
     "text": [
      "Epoch 9/50 [Train]: 100%|██████████| 137/137 [02:47<00:00,  1.23s/batch, train_loss=0.00203, d_ap=0.424] \n",
      "                                                                                         \r"
     ]
    },
    {
     "name": "stdout",
     "output_type": "stream",
     "text": [
      "Epoch 9/50:\n",
      "  Train Loss: 0.0012, Train Accuracy: 1.0000\n",
      "  Val Loss: 0.0015, Val Accuracy: 1.0000\n",
      "  No improvement in validation loss for 1 epoochs\n"
     ]
    },
    {
     "name": "stderr",
     "output_type": "stream",
     "text": [
      "Epoch 10/50 [Train]: 100%|██████████| 137/137 [02:47<00:00,  1.22s/batch, train_loss=0.000943, d_ap=0.434]\n",
      "                                                                                         \r"
     ]
    },
    {
     "name": "stdout",
     "output_type": "stream",
     "text": [
      "Epoch 10/50:\n",
      "  Train Loss: 0.0016, Train Accuracy: 1.0000\n",
      "  Val Loss: 0.0022, Val Accuracy: 1.0000\n",
      "  No improvement in validation loss for 2 epoochs\n"
     ]
    },
    {
     "name": "stderr",
     "output_type": "stream",
     "text": [
      "Epoch 11/50 [Train]: 100%|██████████| 137/137 [02:47<00:00,  1.22s/batch, train_loss=0.000159, d_ap=0.432]\n",
      "                                                                                         \r"
     ]
    },
    {
     "name": "stdout",
     "output_type": "stream",
     "text": [
      "Epoch 11/50:\n",
      "  Train Loss: 0.0011, Train Accuracy: 1.0000\n",
      "  Val Loss: 0.0021, Val Accuracy: 1.0000\n",
      "  No improvement in validation loss for 3 epoochs\n"
     ]
    },
    {
     "name": "stderr",
     "output_type": "stream",
     "text": [
      "Epoch 12/50 [Train]: 100%|██████████| 137/137 [02:46<00:00,  1.22s/batch, train_loss=0.000916, d_ap=0.443]\n",
      "                                                                                         \r"
     ]
    },
    {
     "name": "stdout",
     "output_type": "stream",
     "text": [
      "Epoch 12/50:\n",
      "  Train Loss: 0.0010, Train Accuracy: 1.0000\n",
      "  Val Loss: 0.0014, Val Accuracy: 1.0000\n",
      "  No improvement in validation loss for 4 epoochs\n"
     ]
    },
    {
     "name": "stderr",
     "output_type": "stream",
     "text": [
      "Epoch 13/50 [Train]: 100%|██████████| 137/137 [02:48<00:00,  1.23s/batch, train_loss=0.000265, d_ap=0.408]\n",
      "                                                                                         \r"
     ]
    },
    {
     "name": "stdout",
     "output_type": "stream",
     "text": [
      "Epoch 13/50:\n",
      "  Train Loss: 0.0003, Train Accuracy: 1.0000\n",
      "  Val Loss: 0.0002, Val Accuracy: 1.0000\n",
      "  Model saved to best_face_finetune2.pt (Best Val Loss: 0.0002)\n"
     ]
    },
    {
     "name": "stderr",
     "output_type": "stream",
     "text": [
      "Epoch 14/50 [Train]: 100%|██████████| 137/137 [02:47<00:00,  1.22s/batch, train_loss=0, d_ap=0.405]       \n",
      "                                                                                         \r"
     ]
    },
    {
     "name": "stdout",
     "output_type": "stream",
     "text": [
      "Epoch 14/50:\n",
      "  Train Loss: 0.0001, Train Accuracy: 1.0000\n",
      "  Val Loss: 0.0002, Val Accuracy: 1.0000\n",
      "  Model saved to best_face_finetune2.pt (Best Val Loss: 0.0002)\n"
     ]
    },
    {
     "name": "stderr",
     "output_type": "stream",
     "text": [
      "Epoch 15/50 [Train]: 100%|██████████| 137/137 [02:48<00:00,  1.23s/batch, train_loss=0, d_ap=0.411]       \n",
      "                                                                                         \r"
     ]
    },
    {
     "name": "stdout",
     "output_type": "stream",
     "text": [
      "Epoch 15/50:\n",
      "  Train Loss: 0.0001, Train Accuracy: 1.0000\n",
      "  Val Loss: 0.0005, Val Accuracy: 1.0000\n",
      "  No improvement in validation loss for 1 epoochs\n"
     ]
    },
    {
     "name": "stderr",
     "output_type": "stream",
     "text": [
      "Epoch 16/50 [Train]: 100%|██████████| 137/137 [02:46<00:00,  1.21s/batch, train_loss=0.000242, d_ap=0.423]\n",
      "                                                                                         \r"
     ]
    },
    {
     "name": "stdout",
     "output_type": "stream",
     "text": [
      "Epoch 16/50:\n",
      "  Train Loss: 0.0003, Train Accuracy: 1.0000\n",
      "  Val Loss: 0.0008, Val Accuracy: 1.0000\n",
      "  No improvement in validation loss for 2 epoochs\n"
     ]
    },
    {
     "name": "stderr",
     "output_type": "stream",
     "text": [
      "Epoch 17/50 [Train]: 100%|██████████| 137/137 [02:48<00:00,  1.23s/batch, train_loss=0.000291, d_ap=0.414]\n",
      "                                                                                         \r"
     ]
    },
    {
     "name": "stdout",
     "output_type": "stream",
     "text": [
      "Epoch 17/50:\n",
      "  Train Loss: 0.0005, Train Accuracy: 1.0000\n",
      "  Val Loss: 0.0008, Val Accuracy: 1.0000\n",
      "  No improvement in validation loss for 3 epoochs\n"
     ]
    },
    {
     "name": "stderr",
     "output_type": "stream",
     "text": [
      "Epoch 18/50 [Train]: 100%|██████████| 137/137 [02:43<00:00,  1.20s/batch, train_loss=0, d_ap=0.418]       \n",
      "                                                                                         \r"
     ]
    },
    {
     "name": "stdout",
     "output_type": "stream",
     "text": [
      "Epoch 18/50:\n",
      "  Train Loss: 0.0005, Train Accuracy: 1.0000\n",
      "  Val Loss: 0.0004, Val Accuracy: 1.0000\n",
      "  No improvement in validation loss for 4 epoochs\n"
     ]
    },
    {
     "name": "stderr",
     "output_type": "stream",
     "text": [
      "Epoch 19/50 [Train]: 100%|██████████| 137/137 [02:47<00:00,  1.22s/batch, train_loss=0, d_ap=0.394]       \n",
      "                                                                                         \r"
     ]
    },
    {
     "name": "stdout",
     "output_type": "stream",
     "text": [
      "Epoch 19/50:\n",
      "  Train Loss: 0.0001, Train Accuracy: 1.0000\n",
      "  Val Loss: 0.0001, Val Accuracy: 1.0000\n",
      "  Model saved to best_face_finetune2.pt (Best Val Loss: 0.0001)\n"
     ]
    },
    {
     "name": "stderr",
     "output_type": "stream",
     "text": [
      "Epoch 20/50 [Train]: 100%|██████████| 137/137 [02:44<00:00,  1.20s/batch, train_loss=0, d_ap=0.387]       \n",
      "                                                                                         \r"
     ]
    },
    {
     "name": "stdout",
     "output_type": "stream",
     "text": [
      "Epoch 20/50:\n",
      "  Train Loss: 0.0000, Train Accuracy: 1.0000\n",
      "  Val Loss: 0.0001, Val Accuracy: 1.0000\n",
      "  No improvement in validation loss for 1 epoochs\n"
     ]
    },
    {
     "name": "stderr",
     "output_type": "stream",
     "text": [
      "Epoch 21/50 [Train]: 100%|██████████| 137/137 [02:45<00:00,  1.21s/batch, train_loss=0, d_ap=0.395]       \n",
      "                                                                                         \r"
     ]
    },
    {
     "name": "stdout",
     "output_type": "stream",
     "text": [
      "Epoch 21/50:\n",
      "  Train Loss: 0.0000, Train Accuracy: 1.0000\n",
      "  Val Loss: 0.0001, Val Accuracy: 1.0000\n",
      "  No improvement in validation loss for 2 epoochs\n"
     ]
    },
    {
     "name": "stderr",
     "output_type": "stream",
     "text": [
      "Epoch 22/50 [Train]: 100%|██████████| 137/137 [02:49<00:00,  1.24s/batch, train_loss=0, d_ap=0.408]       \n",
      "                                                                                         \r"
     ]
    },
    {
     "name": "stdout",
     "output_type": "stream",
     "text": [
      "Epoch 22/50:\n",
      "  Train Loss: 0.0001, Train Accuracy: 1.0000\n",
      "  Val Loss: 0.0002, Val Accuracy: 1.0000\n",
      "  No improvement in validation loss for 3 epoochs\n"
     ]
    },
    {
     "name": "stderr",
     "output_type": "stream",
     "text": [
      "Epoch 23/50 [Train]: 100%|██████████| 137/137 [02:45<00:00,  1.21s/batch, train_loss=0.000264, d_ap=0.411]\n",
      "                                                                                         \r"
     ]
    },
    {
     "name": "stdout",
     "output_type": "stream",
     "text": [
      "Epoch 23/50:\n",
      "  Train Loss: 0.0001, Train Accuracy: 1.0000\n",
      "  Val Loss: 0.0003, Val Accuracy: 1.0000\n",
      "  No improvement in validation loss for 4 epoochs\n"
     ]
    },
    {
     "name": "stderr",
     "output_type": "stream",
     "text": [
      "Epoch 24/50 [Train]: 100%|██████████| 137/137 [02:46<00:00,  1.22s/batch, train_loss=0, d_ap=0.391]       \n",
      "                                                                                         \r"
     ]
    },
    {
     "name": "stdout",
     "output_type": "stream",
     "text": [
      "Epoch 24/50:\n",
      "  Train Loss: 0.0000, Train Accuracy: 1.0000\n",
      "  Val Loss: 0.0001, Val Accuracy: 1.0000\n",
      "  No improvement in validation loss for 5 epoochs\n"
     ]
    },
    {
     "name": "stderr",
     "output_type": "stream",
     "text": [
      "Epoch 25/50 [Train]: 100%|██████████| 137/137 [02:45<00:00,  1.21s/batch, train_loss=0, d_ap=0.377]       \n",
      "                                                                                         \r"
     ]
    },
    {
     "name": "stdout",
     "output_type": "stream",
     "text": [
      "Epoch 25/50:\n",
      "  Train Loss: 0.0000, Train Accuracy: 1.0000\n",
      "  Val Loss: 0.0001, Val Accuracy: 1.0000\n",
      "  Model saved to best_face_finetune2.pt (Best Val Loss: 0.0001)\n"
     ]
    },
    {
     "name": "stderr",
     "output_type": "stream",
     "text": [
      "Epoch 26/50 [Train]: 100%|██████████| 137/137 [02:45<00:00,  1.21s/batch, train_loss=0, d_ap=0.387]      \n",
      "                                                                                         \r"
     ]
    },
    {
     "name": "stdout",
     "output_type": "stream",
     "text": [
      "Epoch 26/50:\n",
      "  Train Loss: 0.0000, Train Accuracy: 1.0000\n",
      "  Val Loss: 0.0000, Val Accuracy: 1.0000\n",
      "  Model saved to best_face_finetune2.pt (Best Val Loss: 0.0000)\n"
     ]
    },
    {
     "name": "stderr",
     "output_type": "stream",
     "text": [
      "Epoch 27/50 [Train]: 100%|██████████| 137/137 [02:48<00:00,  1.23s/batch, train_loss=0, d_ap=0.39]       \n",
      "                                                                                         \r"
     ]
    },
    {
     "name": "stdout",
     "output_type": "stream",
     "text": [
      "Epoch 27/50:\n",
      "  Train Loss: 0.0000, Train Accuracy: 1.0000\n",
      "  Val Loss: 0.0000, Val Accuracy: 1.0000\n",
      "  No improvement in validation loss for 1 epoochs\n"
     ]
    },
    {
     "name": "stderr",
     "output_type": "stream",
     "text": [
      "Epoch 28/50 [Train]: 100%|██████████| 137/137 [02:45<00:00,  1.21s/batch, train_loss=0, d_ap=0.387]       \n",
      "                                                                                         \r"
     ]
    },
    {
     "name": "stdout",
     "output_type": "stream",
     "text": [
      "Epoch 28/50:\n",
      "  Train Loss: 0.0000, Train Accuracy: 1.0000\n",
      "  Val Loss: 0.0001, Val Accuracy: 1.0000\n",
      "  No improvement in validation loss for 2 epoochs\n"
     ]
    },
    {
     "name": "stderr",
     "output_type": "stream",
     "text": [
      "Epoch 29/50 [Train]: 100%|██████████| 137/137 [02:45<00:00,  1.21s/batch, train_loss=0, d_ap=0.394]       \n",
      "                                                                                         \r"
     ]
    },
    {
     "name": "stdout",
     "output_type": "stream",
     "text": [
      "Epoch 29/50:\n",
      "  Train Loss: 0.0000, Train Accuracy: 1.0000\n",
      "  Val Loss: 0.0002, Val Accuracy: 1.0000\n",
      "  No improvement in validation loss for 3 epoochs\n"
     ]
    },
    {
     "name": "stderr",
     "output_type": "stream",
     "text": [
      "Epoch 30/50 [Train]: 100%|██████████| 137/137 [02:48<00:00,  1.23s/batch, train_loss=0, d_ap=0.398]       \n",
      "                                                                                         \r"
     ]
    },
    {
     "name": "stdout",
     "output_type": "stream",
     "text": [
      "Epoch 30/50:\n",
      "  Train Loss: 0.0000, Train Accuracy: 1.0000\n",
      "  Val Loss: 0.0003, Val Accuracy: 1.0000\n",
      "  No improvement in validation loss for 4 epoochs\n"
     ]
    },
    {
     "name": "stderr",
     "output_type": "stream",
     "text": [
      "Epoch 31/50 [Train]: 100%|██████████| 137/137 [02:42<00:00,  1.19s/batch, train_loss=0, d_ap=0.391]      \n",
      "                                                                                         \r"
     ]
    },
    {
     "name": "stdout",
     "output_type": "stream",
     "text": [
      "Epoch 31/50:\n",
      "  Train Loss: 0.0000, Train Accuracy: 1.0000\n",
      "  Val Loss: 0.0001, Val Accuracy: 1.0000\n",
      "  No improvement in validation loss for 5 epoochs\n"
     ]
    },
    {
     "name": "stderr",
     "output_type": "stream",
     "text": [
      "Epoch 32/50 [Train]: 100%|██████████| 137/137 [02:46<00:00,  1.22s/batch, train_loss=0, d_ap=0.388]      \n",
      "                                                                                         \r"
     ]
    },
    {
     "name": "stdout",
     "output_type": "stream",
     "text": [
      "Epoch 32/50:\n",
      "  Train Loss: 0.0000, Train Accuracy: 1.0000\n",
      "  Val Loss: 0.0001, Val Accuracy: 1.0000\n",
      "  No improvement in validation loss for 6 epoochs\n"
     ]
    },
    {
     "name": "stderr",
     "output_type": "stream",
     "text": [
      "Epoch 33/50 [Train]: 100%|██████████| 137/137 [02:48<00:00,  1.23s/batch, train_loss=0, d_ap=0.384]      \n",
      "                                                                                         \r"
     ]
    },
    {
     "name": "stdout",
     "output_type": "stream",
     "text": [
      "Epoch 33/50:\n",
      "  Train Loss: 0.0000, Train Accuracy: 1.0000\n",
      "  Val Loss: 0.0000, Val Accuracy: 1.0000\n",
      "  Model saved to best_face_finetune2.pt (Best Val Loss: 0.0000)\n"
     ]
    },
    {
     "name": "stderr",
     "output_type": "stream",
     "text": [
      "Epoch 34/50 [Train]: 100%|██████████| 137/137 [02:46<00:00,  1.21s/batch, train_loss=0, d_ap=0.385]       \n",
      "                                                                                         \r"
     ]
    },
    {
     "name": "stdout",
     "output_type": "stream",
     "text": [
      "Epoch 34/50:\n",
      "  Train Loss: 0.0000, Train Accuracy: 1.0000\n",
      "  Val Loss: 0.0001, Val Accuracy: 1.0000\n",
      "  No improvement in validation loss for 1 epoochs\n"
     ]
    },
    {
     "name": "stderr",
     "output_type": "stream",
     "text": [
      "Epoch 35/50 [Train]: 100%|██████████| 137/137 [02:40<00:00,  1.17s/batch, train_loss=0, d_ap=0.393]      \n",
      "                                                                                         \r"
     ]
    },
    {
     "name": "stdout",
     "output_type": "stream",
     "text": [
      "Epoch 35/50:\n",
      "  Train Loss: 0.0000, Train Accuracy: 1.0000\n",
      "  Val Loss: 0.0001, Val Accuracy: 1.0000\n",
      "  No improvement in validation loss for 2 epoochs\n"
     ]
    },
    {
     "name": "stderr",
     "output_type": "stream",
     "text": [
      "Epoch 36/50 [Train]: 100%|██████████| 137/137 [02:48<00:00,  1.23s/batch, train_loss=0, d_ap=0.389]       \n",
      "                                                                                         \r"
     ]
    },
    {
     "name": "stdout",
     "output_type": "stream",
     "text": [
      "Epoch 36/50:\n",
      "  Train Loss: 0.0000, Train Accuracy: 1.0000\n",
      "  Val Loss: 0.0001, Val Accuracy: 1.0000\n",
      "  No improvement in validation loss for 3 epoochs\n"
     ]
    },
    {
     "name": "stderr",
     "output_type": "stream",
     "text": [
      "Epoch 37/50 [Train]: 100%|██████████| 137/137 [02:46<00:00,  1.22s/batch, train_loss=0, d_ap=0.397]       \n",
      "                                                                                         \r"
     ]
    },
    {
     "name": "stdout",
     "output_type": "stream",
     "text": [
      "Epoch 37/50:\n",
      "  Train Loss: 0.0000, Train Accuracy: 1.0000\n",
      "  Val Loss: 0.0001, Val Accuracy: 1.0000\n",
      "  No improvement in validation loss for 4 epoochs\n"
     ]
    },
    {
     "name": "stderr",
     "output_type": "stream",
     "text": [
      "Epoch 38/50 [Train]: 100%|██████████| 137/137 [02:45<00:00,  1.21s/batch, train_loss=0, d_ap=0.391]      \n",
      "                                                                                         \r"
     ]
    },
    {
     "name": "stdout",
     "output_type": "stream",
     "text": [
      "Epoch 38/50:\n",
      "  Train Loss: 0.0000, Train Accuracy: 1.0000\n",
      "  Val Loss: 0.0001, Val Accuracy: 1.0000\n",
      "  No improvement in validation loss for 5 epoochs\n"
     ]
    },
    {
     "name": "stderr",
     "output_type": "stream",
     "text": [
      "Epoch 39/50 [Train]: 100%|██████████| 137/137 [02:46<00:00,  1.22s/batch, train_loss=0, d_ap=0.391]      \n",
      "                                                                                         \r"
     ]
    },
    {
     "name": "stdout",
     "output_type": "stream",
     "text": [
      "Epoch 39/50:\n",
      "  Train Loss: 0.0000, Train Accuracy: 1.0000\n",
      "  Val Loss: 0.0001, Val Accuracy: 1.0000\n",
      "  No improvement in validation loss for 6 epoochs\n"
     ]
    },
    {
     "name": "stderr",
     "output_type": "stream",
     "text": [
      "Epoch 40/50 [Train]: 100%|██████████| 137/137 [02:48<00:00,  1.23s/batch, train_loss=0, d_ap=0.395]      \n",
      "                                                                                         \r"
     ]
    },
    {
     "name": "stdout",
     "output_type": "stream",
     "text": [
      "Epoch 40/50:\n",
      "  Train Loss: 0.0000, Train Accuracy: 1.0000\n",
      "  Val Loss: 0.0000, Val Accuracy: 1.0000\n",
      "  No improvement in validation loss for 7 epoochs\n"
     ]
    },
    {
     "name": "stderr",
     "output_type": "stream",
     "text": [
      "Epoch 41/50 [Train]: 100%|██████████| 137/137 [02:41<00:00,  1.18s/batch, train_loss=0, d_ap=0.387]     \n",
      "                                                                                         \r"
     ]
    },
    {
     "name": "stdout",
     "output_type": "stream",
     "text": [
      "Epoch 41/50:\n",
      "  Train Loss: 0.0000, Train Accuracy: 1.0000\n",
      "  Val Loss: 0.0000, Val Accuracy: 1.0000\n",
      "  No improvement in validation loss for 8 epoochs\n"
     ]
    },
    {
     "name": "stderr",
     "output_type": "stream",
     "text": [
      "Epoch 42/50 [Train]: 100%|██████████| 137/137 [02:49<00:00,  1.23s/batch, train_loss=0, d_ap=0.385]      \n",
      "                                                                                         \r"
     ]
    },
    {
     "name": "stdout",
     "output_type": "stream",
     "text": [
      "Epoch 42/50:\n",
      "  Train Loss: 0.0000, Train Accuracy: 1.0000\n",
      "  Val Loss: 0.0000, Val Accuracy: 1.0000\n",
      "  Model saved to best_face_finetune2.pt (Best Val Loss: 0.0000)\n"
     ]
    },
    {
     "name": "stderr",
     "output_type": "stream",
     "text": [
      "Epoch 43/50 [Train]: 100%|██████████| 137/137 [02:55<00:00,  1.28s/batch, train_loss=0, d_ap=0.382]\n",
      "                                                                                         \r"
     ]
    },
    {
     "name": "stdout",
     "output_type": "stream",
     "text": [
      "Epoch 43/50:\n",
      "  Train Loss: 0.0000, Train Accuracy: 1.0000\n",
      "  Val Loss: 0.0000, Val Accuracy: 1.0000\n",
      "  Model saved to best_face_finetune2.pt (Best Val Loss: 0.0000)\n"
     ]
    },
    {
     "name": "stderr",
     "output_type": "stream",
     "text": [
      "Epoch 44/50 [Train]: 100%|██████████| 137/137 [02:43<00:00,  1.20s/batch, train_loss=0, d_ap=0.383]\n",
      "                                                                                         \r"
     ]
    },
    {
     "name": "stdout",
     "output_type": "stream",
     "text": [
      "Epoch 44/50:\n",
      "  Train Loss: 0.0000, Train Accuracy: 1.0000\n",
      "  Val Loss: 0.0000, Val Accuracy: 1.0000\n",
      "  No improvement in validation loss for 1 epoochs\n"
     ]
    },
    {
     "name": "stderr",
     "output_type": "stream",
     "text": [
      "Epoch 45/50 [Train]: 100%|██████████| 137/137 [02:46<00:00,  1.22s/batch, train_loss=0, d_ap=0.382]\n",
      "                                                                                         \r"
     ]
    },
    {
     "name": "stdout",
     "output_type": "stream",
     "text": [
      "Epoch 45/50:\n",
      "  Train Loss: 0.0000, Train Accuracy: 1.0000\n",
      "  Val Loss: 0.0000, Val Accuracy: 1.0000\n",
      "  No improvement in validation loss for 2 epoochs\n"
     ]
    },
    {
     "name": "stderr",
     "output_type": "stream",
     "text": [
      "Epoch 46/50 [Train]: 100%|██████████| 137/137 [02:43<00:00,  1.19s/batch, train_loss=0, d_ap=0.392]\n",
      "                                                                                         \r"
     ]
    },
    {
     "name": "stdout",
     "output_type": "stream",
     "text": [
      "Epoch 46/50:\n",
      "  Train Loss: 0.0000, Train Accuracy: 1.0000\n",
      "  Val Loss: 0.0000, Val Accuracy: 1.0000\n",
      "  No improvement in validation loss for 3 epoochs\n"
     ]
    },
    {
     "name": "stderr",
     "output_type": "stream",
     "text": [
      "Epoch 47/50 [Train]: 100%|██████████| 137/137 [02:45<00:00,  1.20s/batch, train_loss=0, d_ap=0.386]\n",
      "                                                                                         \r"
     ]
    },
    {
     "name": "stdout",
     "output_type": "stream",
     "text": [
      "Epoch 47/50:\n",
      "  Train Loss: 0.0000, Train Accuracy: 1.0000\n",
      "  Val Loss: 0.0000, Val Accuracy: 1.0000\n",
      "  No improvement in validation loss for 4 epoochs\n"
     ]
    },
    {
     "name": "stderr",
     "output_type": "stream",
     "text": [
      "Epoch 48/50 [Train]: 100%|██████████| 137/137 [02:54<00:00,  1.27s/batch, train_loss=0, d_ap=0.383]\n",
      "                                                                                         \r"
     ]
    },
    {
     "name": "stdout",
     "output_type": "stream",
     "text": [
      "Epoch 48/50:\n",
      "  Train Loss: 0.0000, Train Accuracy: 1.0000\n",
      "  Val Loss: 0.0000, Val Accuracy: 1.0000\n",
      "  No improvement in validation loss for 5 epoochs\n"
     ]
    },
    {
     "name": "stderr",
     "output_type": "stream",
     "text": [
      "Epoch 49/50 [Train]: 100%|██████████| 137/137 [02:50<00:00,  1.25s/batch, train_loss=0, d_ap=0.391]\n",
      "                                                                                         \r"
     ]
    },
    {
     "name": "stdout",
     "output_type": "stream",
     "text": [
      "Epoch 49/50:\n",
      "  Train Loss: 0.0000, Train Accuracy: 1.0000\n",
      "  Val Loss: 0.0000, Val Accuracy: 1.0000\n",
      "  No improvement in validation loss for 6 epoochs\n"
     ]
    },
    {
     "name": "stderr",
     "output_type": "stream",
     "text": [
      "Epoch 50/50 [Train]: 100%|██████████| 137/137 [02:57<00:00,  1.29s/batch, train_loss=0, d_ap=0.385]\n",
      "                                                                                         \r"
     ]
    },
    {
     "name": "stdout",
     "output_type": "stream",
     "text": [
      "Epoch 50/50:\n",
      "  Train Loss: 0.0000, Train Accuracy: 1.0000\n",
      "  Val Loss: 0.0000, Val Accuracy: 1.0000\n",
      "  No improvement in validation loss for 7 epoochs\n"
     ]
    },
    {
     "name": "stderr",
     "output_type": "stream",
     "text": [
      "                                                                                              "
     ]
    },
    {
     "name": "stdout",
     "output_type": "stream",
     "text": [
      "\n",
      "Test Evaluation:\n",
      "  Test Loss: 0.0001, Test Accuracy: 1.0000\n"
     ]
    },
    {
     "name": "stderr",
     "output_type": "stream",
     "text": [
      "\r"
     ]
    }
   ],
   "source": [
    "import os\n",
    "import random\n",
    "from PIL import Image\n",
    "import torch\n",
    "import torch.nn as nn\n",
    "import torch.nn.functional as F\n",
    "from torch.utils.data import Dataset, DataLoader, Subset\n",
    "import torchvision.transforms as transforms\n",
    "from ultralytics import YOLO\n",
    "from tqdm import tqdm\n",
    "import time\n",
    "torch.manual_seed(42)\n",
    "class TripletDataset(Dataset):\n",
    "    def __init__(self, data_dir, n_triplets=10000, transform=None):\n",
    "        self.data_dir = data_dir\n",
    "        self.transform = transform\n",
    "\n",
    "        if not os.path.exists(self.data_dir):\n",
    "            raise ValueError(f\"Directory Not Found: {self.data_dir}\")\n",
    "\n",
    "        self.data_imgs = self.load_images()\n",
    "        print(f'Number of images in data: {len(self.data_imgs)}')\n",
    "\n",
    "        self.triplets = self.create_triplets(self.data_imgs, n_triplets)\n",
    "        if not self.triplets:\n",
    "            raise ValueError(\"No valid triplets created. Check your data.\")\n",
    "\n",
    "    def load_images(self):\n",
    "        data_imgs = []\n",
    "\n",
    "        for subfolder in os.listdir(self.data_dir):\n",
    "            subfolder_path = os.path.join(self.data_dir, subfolder)\n",
    "            if not os.path.isdir(subfolder_path):\n",
    "                continue\n",
    "            for filename in os.listdir(subfolder_path):\n",
    "                if filename.lower().endswith(('.jpg', '.jpeg', '.png')):\n",
    "                    data_imgs.append(os.path.join(subfolder_path, filename))\n",
    "\n",
    "        if not data_imgs:\n",
    "            raise ValueError(f\"No valid images found in {self.data_dir}\")\n",
    "\n",
    "        return data_imgs\n",
    "\n",
    "    def create_triplets(self, data_imgs, n_triplets):\n",
    "        triplets = []\n",
    "        data_subfolder_to_images = {}\n",
    "\n",
    "        for img_path in data_imgs:\n",
    "            subfolder = os.path.basename(os.path.dirname(img_path))\n",
    "            if subfolder not in data_subfolder_to_images:\n",
    "                data_subfolder_to_images[subfolder] = []\n",
    "            data_subfolder_to_images[subfolder].append(img_path)\n",
    "\n",
    "        subfolder_list = list(data_subfolder_to_images.keys())\n",
    "        if len(subfolder_list) < 2:\n",
    "            raise ValueError(\"Need at least 2 subfolders (persons) to create triplets\")\n",
    "\n",
    "        skipped_subfolders = 0\n",
    "        for _ in range(n_triplets):\n",
    "            anchor_subfolder = random.choice(subfolder_list)\n",
    "            if len(data_subfolder_to_images[anchor_subfolder]) < 2:\n",
    "                skipped_subfolders += 1\n",
    "                continue\n",
    "\n",
    "            anchor_img, positive_img = random.sample(data_subfolder_to_images[anchor_subfolder], 2)\n",
    "\n",
    "            negative_subfolder = random.choice([s for s in subfolder_list if s != anchor_subfolder])\n",
    "            negative_img = random.choice(data_subfolder_to_images[negative_subfolder])\n",
    "\n",
    "            triplets.append((anchor_img, positive_img, negative_img))\n",
    "\n",
    "        if not triplets:\n",
    "            raise ValueError(\"No valid triplets created. Ensure subfolders have at least 2 images.\")\n",
    "        print(f'Created {len(triplets)} triplets (skipped {skipped_subfolders} subfolders with < 2 images)')\n",
    "        return triplets\n",
    "\n",
    "    def __len__(self):\n",
    "        \n",
    "        return len(self.triplets)\n",
    "\n",
    "    def __getitem__(self, idx):\n",
    "\n",
    "        anchor_path, positive_path, negative_path = self.triplets[idx]\n",
    "        anchor = Image.open(anchor_path).convert('RGB')\n",
    "        positive = Image.open(positive_path).convert('RGB')\n",
    "        negative = Image.open(negative_path).convert('RGB')\n",
    "\n",
    "        if self.transform:\n",
    "            anchor = self.transform(anchor)\n",
    "            positive = self.transform(positive)\n",
    "            negative = self.transform(negative)\n",
    "\n",
    "        return anchor, positive, negative\n",
    "\n",
    "class SiameseNet(nn.Module):\n",
    "    def __init__(self, feature_extractor, embedding_dim=256):\n",
    "        super(SiameseNet, self).__init__()\n",
    "        self.feature_extractor = feature_extractor\n",
    "        \n",
    "        with torch.no_grad():\n",
    "            sample_input = torch.randn(1, 3, 128, 128)\n",
    "            features = feature_extractor(sample_input)\n",
    "            feature_dim = features.view(features.size(0), -1).shape[1]\n",
    "            print(f\"Feature dimension: {feature_dim}\")\n",
    "        \n",
    "        self.dropout = nn.Dropout(0)\n",
    "        self.projection = nn.Linear(feature_dim, embedding_dim)\n",
    "\n",
    "    def forward(self, x):\n",
    "        features = self.feature_extractor(x)\n",
    "        features = features.view(features.size(0), -1)\n",
    "        features = self.dropout(features)\n",
    "        embedding = self.projection(features)\n",
    "        embedding = F.normalize(embedding, p=2, dim=1) \n",
    "        return embedding\n",
    "\n",
    "def compute_metrics(model, dataloader, margin, device, desc='Evaluating'):\n",
    "    model.eval()\n",
    "    total_loss = 0\n",
    "    correct_triplets = 0\n",
    "    total_triplets = 0\n",
    "    progress_bar = tqdm(dataloader, desc=desc, unit='batch', leave=False)\n",
    "    \n",
    "    with torch.no_grad():\n",
    "        for anchor, positive, negative in progress_bar:\n",
    "            anchor, positive, negative = anchor.to(device), positive.to(device), negative.to(device)\n",
    "            anchor_emb = model(anchor)\n",
    "            positive_emb = model(positive)\n",
    "            negative_emb = model(negative)\n",
    "            loss = F.triplet_margin_loss(anchor_emb, positive_emb, negative_emb, margin=margin)\n",
    "            total_loss += loss.item()\n",
    "            d_ap = torch.norm(anchor_emb - positive_emb, p=2, dim=1)\n",
    "            d_an = torch.norm(anchor_emb - negative_emb, p=2, dim=1)\n",
    "            correct_triplets += (d_ap < d_an).sum().item()\n",
    "            total_triplets += anchor.size(0)\n",
    "            progress_bar.set_postfix({'loss': loss.item(), 'd_ap': d_ap.mean().item()})\n",
    "    \n",
    "    avg_loss = total_loss / len(dataloader)\n",
    "    accuracy = correct_triplets / total_triplets if total_triplets > 0 else 0\n",
    "    return avg_loss, accuracy\n",
    "\n",
    "# Setup\n",
    "device = torch.device('cuda' if torch.cuda.is_available() else 'cpu')\n",
    "model = YOLO('yolo11n-cls.pt')\n",
    "feature_extractor = nn.Sequential(*list(model.model.children())[:-1])\n",
    "siamese_net = SiameseNet(feature_extractor, embedding_dim=256).to(device)\n",
    "\n",
    "model_save_path = 'best_faces.pt'\n",
    "if os.path.exists(model_save_path):\n",
    "    siamese_net.load_state_dict(torch.load(model_save_path))\n",
    "    print(f\"Loaded pre-trained weights from {model_save_path}\")\n",
    "else:\n",
    "    print(f\"No pre-trained model found at {model_save_path}, starting from scratch\")\n",
    "\n",
    "optimizer = torch.optim.Adam(siamese_net.parameters(), lr=0.00001, weight_decay=1e-2) \n",
    "scheduler = torch.optim.lr_scheduler.ReduceLROnPlateau(optimizer, mode='min', factor=0.5, patience=3, verbose=True)\n",
    "margin = 0.6\n",
    "\n",
    "# Transform\n",
    "transform = transforms.Compose([\n",
    "    transforms.Resize((128, 128)),\n",
    "    # transforms.RandomHorizontalFlip(p=0.3),\n",
    "    # transforms.RandomRotation(5),\n",
    "    # transforms.ColorJitter(brightness=0.1, contrast=0.1, saturation=0.1),\n",
    "    transforms.ToTensor(),\n",
    "    transforms.Normalize(mean=[0.485, 0.456, 0.406], std=[0.229, 0.224, 0.225])\n",
    "])\n",
    "\n",
    "dataset = TripletDataset(data_dir='data', n_triplets=15000, transform=transform)\n",
    "total_size = len(dataset)\n",
    "train_size = int(0.7 * total_size)\n",
    "val_size = int(0.15 * total_size)\n",
    "test_size = total_size - train_size - val_size\n",
    "\n",
    "\n",
    "indices = list(range(total_size))\n",
    "random.shuffle(indices)\n",
    "train_indices = indices[:train_size]\n",
    "val_indices = indices[train_size:train_size + val_size]\n",
    "test_indices = indices[train_size + val_size:]\n",
    "\n",
    "train_dataset = Subset(dataset, train_indices)\n",
    "val_dataset = Subset(dataset, val_indices)\n",
    "test_dataset = Subset(dataset, test_indices)\n",
    "\n",
    "train_loader = DataLoader(train_dataset, batch_size=512, shuffle=True)\n",
    "val_loader = DataLoader(val_dataset, batch_size=512, shuffle=False)\n",
    "test_loader = DataLoader(test_dataset, batch_size=512, shuffle=False)\n",
    "\n",
    "print(f\"Train size: {len(train_dataset)}, Val size: {len(val_dataset)}, Test size: {len(test_dataset)}\")\n",
    "\n",
    "\n",
    "num_epochs = 50  \n",
    "best_val_loss = float('inf')\n",
    "fine_tune_save_path = 'best_face_finetune'\n",
    "patience = 10\n",
    "epochs_no_improve = 0\n",
    "\n",
    "if os.path.exists(model_save_path):\n",
    "    initial_val_loss, initial_val_acc = compute_metrics(siamese_net, val_loader, margin, device, desc='Initial Validation')\n",
    "    best_val_loss = initial_val_loss\n",
    "    print(f\"Initial Validation Loss: {initial_val_loss:.4f}, Accuracy: {initial_val_acc:.4f}\")\n",
    "\n",
    "for epoch in range(num_epochs):\n",
    "    siamese_net.train()\n",
    "    total_train_loss = 0\n",
    "    correct_train_triplets = 0\n",
    "    total_train_triplets = 0\n",
    "    progress_bar = tqdm(train_loader, desc=f'Epoch {epoch+1}/{num_epochs} [Train]', unit='batch')\n",
    "    \n",
    "    for anchor, positive, negative in progress_bar:\n",
    "        anchor, positive, negative = anchor.to(device), positive.to(device), negative.to(device)\n",
    "        optimizer.zero_grad()\n",
    "        anchor_emb = siamese_net(anchor)\n",
    "        positive_emb = siamese_net(positive)\n",
    "        negative_emb = siamese_net(negative)\n",
    "        loss = F.triplet_margin_loss(anchor_emb, positive_emb, negative_emb, margin=margin)\n",
    "        loss.backward()\n",
    "        optimizer.step()\n",
    "        \n",
    "        total_train_loss += loss.item()\n",
    "        d_ap = torch.norm(anchor_emb - positive_emb, p=2, dim=1)\n",
    "        d_an = torch.norm(anchor_emb - negative_emb, p=2, dim=1)\n",
    "        correct_train_triplets += (d_ap < d_an).sum().item()\n",
    "        total_train_triplets += anchor.size(0)\n",
    "        \n",
    "        progress_bar.set_postfix({'train_loss': loss.item(), 'd_ap': d_ap.mean().item()})\n",
    "\n",
    "    # if (epoch %10==0 and epoch >1):\n",
    "    #     time.sleep(200)\n",
    "\n",
    "    \n",
    "    train_loss = total_train_loss / len(train_loader)\n",
    "    train_acc = correct_train_triplets / total_train_triplets if total_train_triplets > 0 else 0\n",
    "    \n",
    "    val_loss, val_acc = compute_metrics(siamese_net, val_loader, margin, device, desc='Validation')\n",
    "    \n",
    "    scheduler.step(val_loss)\n",
    "    \n",
    "    print(f'Epoch {epoch+1}/{num_epochs}:')\n",
    "    print(f'  Train Loss: {train_loss:.4f}, Train Accuracy: {train_acc:.4f}')\n",
    "    print(f'  Val Loss: {val_loss:.4f}, Val Accuracy: {val_acc:.4f}')\n",
    "    \n",
    "    if val_loss < best_val_loss:\n",
    "        best_val_loss = val_loss\n",
    "        torch.save(siamese_net.state_dict(), fine_tune_save_path)\n",
    "        print(f'  Model saved to {fine_tune_save_path} (Best Val Loss: {best_val_loss:.4f})')\n",
    "        epochs_no_improve = 0\n",
    "    else:\n",
    "        epochs_no_improve += 1\n",
    "        print(f'  No improvement in validation loss for {epochs_no_improve} epoochs')\n",
    "        if epochs_no_improve >= patience:\n",
    "            print(f'  Early stopping triggered after {epoch+1} epochs')\n",
    "            break\n",
    "\n",
    "test_loss, test_acc = compute_metrics(siamese_net, test_loader, margin, device, desc='Test Evaluation')\n",
    "print(f'\\nTest Evaluation:')\n",
    "print(f'  Test Loss: {test_loss:.4f}, Test Accuracy: {test_acc:.4f}')"
   ]
  }
 ],
 "metadata": {
  "kernelspec": {
   "display_name": "school_env",
   "language": "python",
   "name": "python3"
  },
  "language_info": {
   "codemirror_mode": {
    "name": "ipython",
    "version": 3
   },
   "file_extension": ".py",
   "mimetype": "text/x-python",
   "name": "python",
   "nbconvert_exporter": "python",
   "pygments_lexer": "ipython3",
   "version": "3.11.13"
  }
 },
 "nbformat": 4,
 "nbformat_minor": 2
}
